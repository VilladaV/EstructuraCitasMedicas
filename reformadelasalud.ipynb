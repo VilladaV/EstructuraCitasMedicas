{
  "nbformat": 4,
  "nbformat_minor": 0,
  "metadata": {
    "colab": {
      "provenance": [],
      "authorship_tag": "ABX9TyOK7/DFSgM1ykt257acP+6c",
      "include_colab_link": true
    },
    "kernelspec": {
      "name": "python3",
      "display_name": "Python 3"
    },
    "language_info": {
      "name": "python"
    }
  },
  "cells": [
    {
      "cell_type": "markdown",
      "metadata": {
        "id": "view-in-github",
        "colab_type": "text"
      },
      "source": [
        "<a href=\"https://colab.research.google.com/github/VilladaV/EstructuraCitasMedicas/blob/main/reformadelasalud.ipynb\" target=\"_parent\"><img src=\"https://colab.research.google.com/assets/colab-badge.svg\" alt=\"Open In Colab\"/></a>"
      ]
    },
    {
      "cell_type": "code",
      "source": [
        "class Nodo:\n",
        "  def __init__(self, valor):\n",
        "    self.valor = valor\n",
        "    self.siguiente = None\n",
        "    self.anterior = None"
      ],
      "metadata": {
        "id": "n8CS8zLQo68M"
      },
      "execution_count": null,
      "outputs": []
    },
    {
      "cell_type": "code",
      "execution_count": null,
      "metadata": {
        "id": "VtmYjiuGkqTF"
      },
      "outputs": [],
      "source": [
        "#Clase representa una cita individual\n",
        "class Cita:\n",
        "    contador_id = 1  # id incremental\n",
        "\n",
        "    def __init__(self, nombrePaciente, doctor, hora, estado=\"Programada\"):\n",
        "        self.id = Cita.contador_id\n",
        "        Cita.contador_id += 1\n",
        "        self.nombrePaciente = nombrePaciente\n",
        "        self.doctor = doctor\n",
        "        self.hora = hora\n",
        "        self.estado = estado\n",
        "        self.siguiente = None\n",
        "        self.anterior = None\n",
        "\n",
        "    def __str__(self):\n",
        "        return f\"ID: {self.id} | Paciente: {self.nombrePaciente} | Doctor: {self.doctor} | Hora: {self.hora} | Estado: {self.estado}\""
      ]
    },
    {
      "cell_type": "markdown",
      "source": [
        "Esta clase gestionará la colección de todas las citas registradas.\n",
        "Implementará métodos para:\n",
        "Agregar una nueva cita.\n",
        "Buscar una cita por su ID.\n",
        "Modificar los datos de una cita.\n",
        "Cambiar el estado de una cita (por ejemplo, al cancelar).\n",
        "Listar todas las citas.\n",
        "\n"
      ],
      "metadata": {
        "id": "KSS8gM-IpReH"
      }
    },
    {
      "cell_type": "code",
      "source": [
        "class ListaEnlazadaCitas:\n",
        "    def __init__(self):\n",
        "        self.cabeza = None\n",
        "        self.cola = None\n",
        "        self.size = 0\n",
        "\n",
        "    def agregarCita(self, cita):\n",
        "        nuevo_nodo = Nodo(cita)\n",
        "        if not self.cabeza:\n",
        "            self.cabeza = self.cola = nuevo_nodo\n",
        "        else:\n",
        "            self.cola.siguiente = nuevo_nodo\n",
        "            nuevo_nodo.anterior = self.cola\n",
        "            self.cola = nuevo_nodo\n",
        "        self.size += 1\n",
        "\n",
        "    def buscarCitaId(self, id):\n",
        "        actual = self.cabeza\n",
        "        while actual:\n",
        "            if actual.valor.id == id:\n",
        "                return actual.valor\n",
        "            actual = actual.siguiente\n",
        "        return None\n",
        "\n",
        "    def modificarCita(self, cita_modificada):\n",
        "        actual = self.cabeza\n",
        "        while actual:\n",
        "            if actual.valor.id == cita_modificada.id:\n",
        "                actual.valor = cita_modificada\n",
        "                return True\n",
        "            actual = actual.siguiente\n",
        "        return False\n",
        "\n",
        "    def cambiarEstadoCita(self, id, nuevoEstado):\n",
        "        cita = self.buscarCitaId(id)\n",
        "        if cita:\n",
        "            cita.estado = nuevoEstado\n",
        "            return True\n",
        "        return False\n",
        "\n",
        "    def listarCitas(self):\n",
        "        citas = []\n",
        "        actual = self.cabeza\n",
        "        while actual:\n",
        "            citas.append(actual.valor)\n",
        "            actual = actual.siguiente\n",
        "        return citas\n",
        "\n",
        "    def eliminarCitaPorId(self, id):\n",
        "        actual = self.cabeza\n",
        "        while actual:\n",
        "            if actual.valor.id == id:\n",
        "                if actual.anterior:\n",
        "                    actual.anterior.siguiente = actual.siguiente\n",
        "                else:\n",
        "                    self.cabeza = actual.siguiente\n",
        "                if actual.siguiente:\n",
        "                    actual.siguiente.anterior = actual.anterior\n",
        "                else:\n",
        "                    self.cola = actual.anterior\n",
        "                self.size -= 1\n",
        "                return True\n",
        "            actual = actual.siguiente\n",
        "        return False\n",
        "\n",
        "    def __iter__(self):\n",
        "        actual = self.cabeza\n",
        "        while actual:\n",
        "            yield actual.valor\n",
        "            actual = actual.siguiente"
      ],
      "metadata": {
        "id": "vDaoSE-Eowis"
      },
      "execution_count": null,
      "outputs": []
    },
    {
      "cell_type": "markdown",
      "source": [
        "Esta clase gestionará las citas que están pendientes de ser procesadas, respetando el orden de llegada (FIFO - Primero en Entrar, Primero en Salir).\n",
        "Implementará métodos para:\n",
        "Encolar una nueva cita (agregarla al final de la cola).\n",
        "Desencolar una cita (obtener y eliminar la cita del frente de la cola para procesarla).\n",
        "Verificar si la cola está vacía.\n",
        "Listar las citas en la cola.\n"
      ],
      "metadata": {
        "id": "GsTamYyap3k0"
      }
    },
    {
      "cell_type": "code",
      "source": [
        "class ColaCitasPendientes:\n",
        "    def __init__(self):\n",
        "        self.items = ListaEnlazadaCitas()\n",
        "\n",
        "    def encolarCita(self, cita):\n",
        "        self.items.agregarCita(cita)\n",
        "\n",
        "    def desencolarCita(self):\n",
        "        if not self.estaVacia():\n",
        "            primera_cita = self.items.cabeza.valor\n",
        "            self.items.eliminarCitaPorId(primera_cita.id)\n",
        "            return primera_cita\n",
        "        else:\n",
        "            raise IndexError(\"La cola está vacía\")\n",
        "\n",
        "    def estaVacia(self):\n",
        "        return self.items.size == 0\n",
        "\n",
        "    def listarCitas(self):\n",
        "        print(\"Citas pendientes:\")\n",
        "        for cita in self.items:\n",
        "            print(f\"ID: {cita.id} | Paciente: {cita.nombrePaciente} | Doctor: {cita.doctor} | Hora: {cita.hora} | Estado: {cita.estado}\")\n"
      ],
      "metadata": {
        "id": "ON7NT6Ukp6pm"
      },
      "execution_count": null,
      "outputs": []
    },
    {
      "cell_type": "code",
      "source": [
        "class PilaHistorialOperaciones:\n",
        "    def __init__(self):\n",
        "        self.items = []\n",
        "\n",
        "    def apilarOperacion(self, operacion):\n",
        "        self.items.append(operacion)\n",
        "\n",
        "    def desapilarUltimaOperacion(self):\n",
        "        if not self.estaVacia():\n",
        "            return self.items.pop()\n",
        "        else:\n",
        "            raise IndexError(\"La pila está vacía\")\n",
        "\n",
        "    def estaVacia(self):\n",
        "        return len(self.items) == 0\n",
        "\n",
        "    def listarOperaciones(self):\n",
        "        print(\"Historial de operaciones:\")\n",
        "        for operacion in reversed(self.items):\n",
        "            print(operacion)\n"
      ],
      "metadata": {
        "id": "AdgC73J9qY4P"
      },
      "execution_count": null,
      "outputs": []
    },
    {
      "cell_type": "code",
      "source": [
        "if __name__ == \"__main__\":\n",
        "    lista_citas = ListaEnlazadaCitas()\n",
        "    cola_pendientes = ColaCitasPendientes()\n",
        "    historial = PilaHistorialOperaciones()\n",
        "\n",
        "    cita1 = Cita(\"Ana juana\", \"Dr. Ramírez\", \"08:00 AM\")\n",
        "    cita2 = Cita(\"Luis Pepe\", \"Dra. Salas\", \"09:30 AM\")\n",
        "    cita3 = Cita(\"Diego Norrea\", \"Dr. Pérez\", \"10:15 AM\")\n",
        "\n",
        "    lista_citas.agregarCita(cita1)\n",
        "    lista_citas.agregarCita(cita2)\n",
        "    lista_citas.agregarCita(cita3)\n",
        "\n",
        "    cola_pendientes.encolarCita(cita1)\n",
        "    cola_pendientes.encolarCita(cita2)\n",
        "    cola_pendientes.encolarCita(cita3)\n",
        "\n",
        "    historial.apilarOperacion({\"tipo\": \"creación\", \"cita\": cita1})\n",
        "\n",
        "    print(\"- TODAS LAS CITAS\")\n",
        "    for cita in lista_citas:\n",
        "        print(cita)\n",
        "\n",
        "    print(\"- CITAS PENDIENTES\")\n",
        "    cola_pendientes.listarCitas()\n",
        "\n",
        "    print(\"- HISTORIAL\")\n",
        "    historial.listarOperaciones()\n",
        "\n",
        "    procesada = cola_pendientes.desencolarCita()\n",
        "    lista_citas.cambiarEstadoCita(procesada.id, \"Completada\")\n",
        "    print(f\"- Cita procesada:{procesada}\")\n",
        "\n",
        "    print(\"- CITAS PENDIENTES (Despues)\")\n",
        "    cola_pendientes.listarCitas()\n"
      ],
      "metadata": {
        "colab": {
          "base_uri": "https://localhost:8080/"
        },
        "id": "N__xyp2Pf6Ba",
        "outputId": "82974e01-f44c-493e-cb4c-ab9e85332437"
      },
      "execution_count": null,
      "outputs": [
        {
          "output_type": "stream",
          "name": "stdout",
          "text": [
            "- TODAS LAS CITAS\n",
            "ID: 10 | Paciente: Ana juana | Doctor: Dr. Ramírez | Hora: 08:00 AM | Estado: Programada\n",
            "ID: 11 | Paciente: Luis Pepe | Doctor: Dra. Salas | Hora: 09:30 AM | Estado: Programada\n",
            "ID: 12 | Paciente: Diego Norrea | Doctor: Dr. Pérez | Hora: 10:15 AM | Estado: Programada\n",
            "- CITAS PENDIENTES\n",
            "Citas pendientes:\n",
            "ID: 10 | Paciente: Ana juana | Doctor: Dr. Ramírez | Hora: 08:00 AM | Estado: Programada\n",
            "ID: 11 | Paciente: Luis Pepe | Doctor: Dra. Salas | Hora: 09:30 AM | Estado: Programada\n",
            "ID: 12 | Paciente: Diego Norrea | Doctor: Dr. Pérez | Hora: 10:15 AM | Estado: Programada\n",
            "- HISTORIAL\n",
            "Historial de operaciones:\n",
            "{'tipo': 'creación', 'cita': <__main__.Cita object at 0x7e8bb9718b10>}\n",
            "- Cita procesada:ID: 10 | Paciente: Ana juana | Doctor: Dr. Ramírez | Hora: 08:00 AM | Estado: Completada\n",
            "- CITAS PENDIENTES (Despues)\n",
            "Citas pendientes:\n",
            "ID: 11 | Paciente: Luis Pepe | Doctor: Dra. Salas | Hora: 09:30 AM | Estado: Programada\n",
            "ID: 12 | Paciente: Diego Norrea | Doctor: Dr. Pérez | Hora: 10:15 AM | Estado: Programada\n"
          ]
        }
      ]
    }
  ]
}