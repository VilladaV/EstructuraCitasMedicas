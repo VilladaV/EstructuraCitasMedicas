{
  "nbformat": 4,
  "nbformat_minor": 0,
  "metadata": {
    "colab": {
      "provenance": [],
      "authorship_tag": "ABX9TyMNXcNaLiW17td4mWoWAxRr",
      "include_colab_link": true
    },
    "kernelspec": {
      "name": "python3",
      "display_name": "Python 3"
    },
    "language_info": {
      "name": "python"
    }
  },
  "cells": [
    {
      "cell_type": "markdown",
      "metadata": {
        "id": "view-in-github",
        "colab_type": "text"
      },
      "source": [
        "<a href=\"https://colab.research.google.com/github/VilladaV/EstructuraCitasMedicas/blob/main/ReformaDeLaSalud.ipynb\" target=\"_parent\"><img src=\"https://colab.research.google.com/assets/colab-badge.svg\" alt=\"Open In Colab\"/></a>"
      ]
    },
    {
      "cell_type": "code",
      "source": [
        "class Nodo:\n",
        "  def __init__(self, dato):\n",
        "    self.valor = valor\n",
        "    self.siguiente = None\n",
        "    self.anterior = None"
      ],
      "metadata": {
        "id": "n8CS8zLQo68M"
      },
      "execution_count": null,
      "outputs": []
    },
    {
      "cell_type": "code",
      "execution_count": null,
      "metadata": {
        "id": "VtmYjiuGkqTF"
      },
      "outputs": [],
      "source": [
        "#Clase representa una cita individual\n",
        "class Cita:\n",
        "  def __init__(self, nombrePaciente, Doctor, hora, id, estado):\n",
        "    self.nombrePaciente = nombrePaciente\n",
        "    self.doctor = doctor\n",
        "    self.hora = hora\n",
        "    self.id = id\n",
        "    self.estado = estado\n",
        "\n",
        ""
      ]
    },
    {
      "cell_type": "markdown",
      "source": [
        "Esta clase gestionará la colección de todas las citas registradas.\n",
        "Implementará métodos para:\n",
        "Agregar una nueva cita.\n",
        "Buscar una cita por su ID.\n",
        "Modificar los datos de una cita.\n",
        "Cambiar el estado de una cita (por ejemplo, al cancelar).\n",
        "Listar todas las citas.\n",
        "\n"
      ],
      "metadata": {
        "id": "KSS8gM-IpReH"
      }
    },
    {
      "cell_type": "code",
      "source": [
        "class ListaEnlazadaCitas:\n",
        "  def __init__(self):\n",
        "    self.cabeza = None\n",
        "    self.cola = None\n",
        "    self.size = 0\n",
        "\n",
        "  def agregarCita(self, cita):\n",
        "\n",
        "  def buscarCitaId(self, id):\n",
        "\n",
        "  def modificarCita(self, cita):\n",
        "\n",
        "  def cambiarEstadoCita(self, id, nuevoEstado):\n",
        "\n",
        "  def listarCitas(self):"
      ],
      "metadata": {
        "id": "vDaoSE-Eowis"
      },
      "execution_count": null,
      "outputs": []
    },
    {
      "cell_type": "markdown",
      "source": [
        "Esta clase gestionará las citas que están pendientes de ser procesadas, respetando el orden de llegada (FIFO - Primero en Entrar, Primero en Salir).\n",
        "Implementará métodos para:\n",
        "Encolar una nueva cita (agregarla al final de la cola).\n",
        "Desencolar una cita (obtener y eliminar la cita del frente de la cola para procesarla).\n",
        "Verificar si la cola está vacía.\n",
        "Listar las citas en la cola.\n"
      ],
      "metadata": {
        "id": "GsTamYyap3k0"
      }
    },
    {
      "cell_type": "code",
      "source": [
        "class ColaCitasPendientes:\n",
        "  def __init__(self):\n",
        "    self.items = ListaEnlazadaCitas()\n",
        "  def encolarCita(self, cita):\n",
        "    self.items.append(cita)\n",
        "  def desencolarCita(self):\n",
        "    if not self.estaVacia():\n",
        "      return self.items.pop(0)\n",
        "    else:\n",
        "      raise IndexError(\"La cola está vacía\")\n",
        "  def estaVacia(self):\n",
        "    return len(self.items) == 0\n",
        "  def listarCitas(self):\n",
        "    if not self.estaVacia():\n",
        "      print(\"Citas pendientes:\")\n",
        "      for cita in self.items:"
      ],
      "metadata": {
        "id": "ON7NT6Ukp6pm"
      },
      "execution_count": null,
      "outputs": []
    },
    {
      "cell_type": "code",
      "source": [
        "class PilaHistorialOperaciones:\n",
        "  def __init__(self):\n",
        "    self.items = ListaEnlazadaCitas()\n",
        "  def apilarOperación(self, operacion):\n",
        "    self.items.append(operacion)\n",
        "  def desapilarUltimaOperacion(self):\n",
        "    if not self.estaVacia():\n",
        "      return self.items.pop()\n",
        "    else:\n",
        "      raise IndexError(\"La pila está vacía\")\n",
        "  def estaVacia(self):\n",
        "    return len(self.items) == 0\n",
        "  def listarOperaciones(self):\n",
        "    if not self.estaVacia():\n",
        "      print(\"Historial de operaciones:\")\n",
        "      for operacion in reversed(self.items):\n",
        "        print(operacion)"
      ],
      "metadata": {
        "id": "AdgC73J9qY4P"
      },
      "execution_count": null,
      "outputs": []
    }
  ]
}