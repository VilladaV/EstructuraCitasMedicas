{
  "nbformat": 4,
  "nbformat_minor": 0,
  "metadata": {
    "colab": {
      "provenance": [],
      "authorship_tag": "ABX9TyO5GSnpAeBgNEsHiL5fwF2C",
      "include_colab_link": true
    },
    "kernelspec": {
      "name": "python3",
      "display_name": "Python 3"
    },
    "language_info": {
      "name": "python"
    }
  },
  "cells": [
    {
      "cell_type": "markdown",
      "metadata": {
        "id": "view-in-github",
        "colab_type": "text"
      },
      "source": [
        "<a href=\"https://colab.research.google.com/github/VilladaV/EstructuraCitasMedicas/blob/main/ReformaDeLaSalud.ipynb\" target=\"_parent\"><img src=\"https://colab.research.google.com/assets/colab-badge.svg\" alt=\"Open In Colab\"/></a>"
      ]
    },
    {
      "cell_type": "code",
      "execution_count": null,
      "metadata": {
        "id": "VtmYjiuGkqTF"
      },
      "outputs": [],
      "source": [
        "#Clase representa una cita individual\n",
        "class Cita:\n",
        "  def __init__(self, nombrePaciente, Doctor, hora, id, estado):\n",
        "    self.nombrePaciente = nombrePaciente\n",
        "    self.doctor = doctor\n",
        "    self.hora = hora\n",
        "    self.id = id\n",
        "    self.estado = estado\n",
        "\n",
        ""
      ]
    }
  ]
}